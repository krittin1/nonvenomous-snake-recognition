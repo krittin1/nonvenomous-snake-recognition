{
 "cells": [
  {
   "cell_type": "code",
   "execution_count": 375,
   "metadata": {},
   "outputs": [],
   "source": [
    "import cv2\n",
    "import numpy as np\n",
    "import keras\n",
    "import os\n",
    "import matplotlib.pyplot as plt\n",
    "from random import shuffle\n",
    "from sklearn.model_selection import train_test_split\n",
    "from random import shuffle\n",
    "from sklearn.metrics import classification_report\n",
    "from tensorflow.keras.preprocessing.image import ImageDataGenerator\n",
    "from keras.optimizers import Adam\n"
   ]
  },
  {
   "cell_type": "code",
   "execution_count": 376,
   "metadata": {},
   "outputs": [],
   "source": [
    "imageSize = 64\n",
    "# path = \"C:/Users/sppol/OneDrive/Documents/Snake/KingCobra/train_data_dir/image\"\n",
    "train_data_dir = \"C:/Users/sppol/OneDrive/Documents/dataset/train\"\n",
    "validation_data_dir = \"C:/Users/sppol/OneDrive/Documents/dataset/test\"\n",
    "\n",
    "# train = \"C:/Users/sppol/OneDrive/Documents/dataset/test/\""
   ]
  },
  {
   "cell_type": "code",
   "execution_count": 377,
   "metadata": {},
   "outputs": [],
   "source": [
    "#     i=0\n",
    "#     for filename in os.listdir(train): \n",
    "        \n",
    "#         dst = train+ str(i) + \".jpg\"\n",
    "#         src = train + filename  \n",
    "\n",
    "# #         dst ='xyz'+ dst \n",
    "          \n",
    "#         # rename() function will \n",
    "#         # rename all the files \n",
    "#         os.rename(src, dst) \n",
    "#         i += 1"
   ]
  },
  {
   "cell_type": "code",
   "execution_count": 378,
   "metadata": {},
   "outputs": [],
   "source": [
    "# for img in os.listdir(path):  #ชื่อcategories แต่ล่ะตัว\n",
    "#     paths = os.path.join(path,img)\n",
    "# #     img_arrays = cv2.imread(paths,cv2.COLOR_BGR2RGB)\n",
    "#     img_arrays = cv2.imread(paths,cv2.IMREAD_GRAYSCALE)\n",
    "#     img_arrays = cv2.resize(img_arrays,(imageSize,imageSize))\n",
    "#     plt.imshow(img_arrays)\n",
    "\n",
    "# #             plt.imshow(imgx)\n",
    "# plt.show()"
   ]
  },
  {
   "cell_type": "code",
   "execution_count": 379,
   "metadata": {},
   "outputs": [
    {
     "name": "stdout",
     "output_type": "stream",
     "text": [
      "Found 897 images belonging to 2 classes.\n",
      "Found 30 images belonging to 2 classes.\n"
     ]
    }
   ],
   "source": [
    "train_datagen = ImageDataGenerator(rescale=1./255,\n",
    "    shear_range=0.1,\n",
    "    zoom_range=0.1,\n",
    "    horizontal_flip=True,\n",
    "    ) # set validation split\n",
    "\n",
    "test_datagen = ImageDataGenerator(rescale=1./255)\n",
    "\n",
    "train_generator = train_datagen.flow_from_directory(\n",
    "    train_data_dir,\n",
    "    target_size=(imageSize, imageSize),#256\n",
    "    batch_size=24,\n",
    "    classes=['cobra','non-cobra'],\n",
    "#     class_mode='categorical',\n",
    "    ) # set as training data\n",
    "\n",
    "validation_generator = test_datagen.flow_from_directory(\n",
    "    validation_data_dir,\n",
    "    target_size=(imageSize, imageSize),#256\n",
    "    batch_size=24,\n",
    "    shuffle=False,\n",
    "#     class_mode='categorical',\n",
    "    classes=['cobra','non-cobra']\n",
    "    ) # set as validation data\n",
    "\n",
    "# model.fit_generator(\n",
    "#     train_generator,\n",
    "#     steps_per_epoch = train_generator.samples // batch_size,\n",
    "#     validation_data = validation_generator, \n",
    "#     validation_steps = validation_generator.samples // batch_size,\n",
    "#     epochs = 5)"
   ]
  },
  {
   "cell_type": "code",
   "execution_count": null,
   "metadata": {},
   "outputs": [],
   "source": []
  },
  {
   "cell_type": "code",
   "execution_count": 380,
   "metadata": {},
   "outputs": [],
   "source": [
    "from keras.models import Sequential\n",
    "from keras.layers import Conv2D, Dense, Flatten, MaxPooling2D\n",
    "from keras.layers import Activation ,Dropout"
   ]
  },
  {
   "cell_type": "code",
   "execution_count": 381,
   "metadata": {},
   "outputs": [],
   "source": []
  },
  {
   "cell_type": "code",
   "execution_count": 382,
   "metadata": {},
   "outputs": [],
   "source": [
    "snake = Sequential()\n",
    "snake.add(Conv2D(32, (3, 3), padding = \"same\", activation = \"relu\", input_shape = (64, 64, 3)))\n",
    "snake.add(Dropout(0.4))\n",
    "snake.add(Conv2D(32, (3, 3), padding = \"same\", activation = \"relu\"))\n",
    "snake.add(Dropout(0.4))\n",
    "snake.add(MaxPooling2D((2, 2)))\n",
    "\n",
    "snake.add(Conv2D(64, (3, 3), padding = \"same\", activation = \"relu\"))\n",
    "snake.add(Dropout(0.4))\n",
    "snake.add(Conv2D(64, (3, 3), padding = \"same\", activation = \"relu\"))\n",
    "snake.add(Dropout(0.4))\n",
    "snake.add(MaxPooling2D((2, 2)))\n",
    "\n",
    "snake.add(Conv2D(128, (3, 3), padding = \"same\", activation = \"relu\"))\n",
    "snake.add(Dropout(0.4))\n",
    "\n",
    "snake.add(Conv2D(128, (3, 3), padding = \"same\", activation = \"relu\"))\n",
    "snake.add(Dropout(0.4))\n",
    "snake.add(MaxPooling2D((2, 2)))\n",
    "\n",
    "snake.add(Flatten())\n",
    "\n",
    "snake.add(Dense(256, activation='relu'))\n",
    "snake.add(Dropout(0.4))\n",
    "snake.add(Dense(2, activation = \"softmax\"))\n",
    "\n",
    "\n",
    "snake.compile(Adam(lr=0.0001),loss = \"categorical_crossentropy\", metrics = [\"accuracy\"])\n",
    "\n",
    "snake.summary()"
   ]
  },
  {
   "cell_type": "code",
   "execution_count": 383,
   "metadata": {},
   "outputs": [],
   "source": [
    "# model = Sequential()\n",
    "# model.add(Conv2D(32, (3, 3), input_shape=input_shape))\n",
    "# model.add(Activation('relu'))\n",
    "# model.add(MaxPooling2D(pool_size=(2, 2)))\n",
    "\n",
    "# model.add(Conv2D(32, (3, 3)))\n",
    "# model.add(Activation('relu'))\n",
    "# model.add(MaxPooling2D(pool_size=(2, 2)))\n",
    "\n",
    "# model.add(Conv2D(64, (3, 3)))\n",
    "# model.add(Activation('relu'))\n",
    "# model.add(MaxPooling2D(pool_size=(2, 2)))\n",
    "\n",
    "# model.add(Flatten())\n",
    "# model.add(Dense(64))\n",
    "# model.add(Activation('relu'))\n",
    "# model.add(Dropout(0.5))\n",
    "# model.add(Dense(1))\n",
    "# model.add(Activation('softmax'))\n"
   ]
  },
  {
   "cell_type": "code",
   "execution_count": 384,
   "metadata": {},
   "outputs": [],
   "source": []
  },
  {
   "cell_type": "code",
   "execution_count": 385,
   "metadata": {},
   "outputs": [],
   "source": [
    "sk=snake.fit_generator(\n",
    "    train_generator,\n",
    "#     steps_per_epoch = train_generator.samples, ## batch_size,\n",
    "        steps_per_epoch = 500, ## batch_size,\n",
    "    validation_data = validation_generator, \n",
    "#     validation_steps = validation_generator.samples, ## batch_size,\n",
    "     validation_steps = 60, ## batch_size,\n",
    "    epochs = 30)"
   ]
  },
  {
   "cell_type": "code",
   "execution_count": 386,
   "metadata": {},
   "outputs": [],
   "source": [
    "snake.save('snake2.h5')"
   ]
  },
  {
   "cell_type": "code",
   "execution_count": null,
   "metadata": {},
   "outputs": [],
   "source": []
  },
  {
   "cell_type": "code",
   "execution_count": 387,
   "metadata": {},
   "outputs": [],
   "source": [
    "print(sk.history.keys())\n",
    "# summarize history for accuracy\n",
    "plt.plot(sk.history['acc'])\n",
    "plt.plot(sk.history['val_acc'])\n",
    "plt.title('model accuracy')\n",
    "plt.ylabel('accuracy')\n",
    "plt.xlabel('epoch')\n",
    "plt.legend(['train', 'test'], loc='upper left')\n",
    "plt.show()\n",
    "# summarize history for loss\n",
    "plt.plot(sk.history['loss'])\n",
    "plt.plot(sk.history['val_loss'])\n",
    "plt.title('model loss')\n",
    "plt.ylabel('loss')\n",
    "plt.xlabel('epoch')\n",
    "plt.legend(['train', 'test'], loc='upper left')\n",
    "plt.show()"
   ]
  },
  {
   "cell_type": "code",
   "execution_count": 388,
   "metadata": {},
   "outputs": [],
   "source": [
    "# def plots(ims, figsize=(12,6), rows=1, interp=False, titles=None):\n",
    "#     if type(ims[0]) is np.ndarray:\n",
    "#         ims = np.array(ims).astype(np.uint8)\n",
    "#         if (ims.shape[-1] != 3):\n",
    "#             ims = ims.transpose((0,2,3,1))\n",
    "#         f = plt.figure(figsize = figsize)\n",
    "#         cols = len(ims)//rows if len(ims) % 2 == 0 else len(ims)//rows +1\n",
    "#         for i in range(len(ims)):\n",
    "#             sp = f.add_subplot(rows, cols, i+1)\n",
    "#             sp.axis('off')\n",
    "#             if(titles is not None):\n",
    "#                 sp.set_title(title[i], fontsize = 16)\n",
    "#             plt.imshow(ims[i], interpolation = None if interp else 'none')"
   ]
  },
  {
   "cell_type": "code",
   "execution_count": 389,
   "metadata": {},
   "outputs": [],
   "source": []
  },
  {
   "cell_type": "code",
   "execution_count": 390,
   "metadata": {},
   "outputs": [],
   "source": [
    "# X, y = next(validation_generator)\n"
   ]
  },
  {
   "cell_type": "code",
   "execution_count": 391,
   "metadata": {},
   "outputs": [],
   "source": [
    "# plots(test_imgs, labels)\n",
    "# print(X)\n",
    "# print(\"rrrrrrrrrrrrrrrrrrr\")\n",
    "# print(y)"
   ]
  },
  {
   "cell_type": "code",
   "execution_count": 392,
   "metadata": {},
   "outputs": [
    {
     "name": "stdout",
     "output_type": "stream",
     "text": [
      "[[9.9969363e-01 3.0644611e-04]]\n"
     ]
    },
    {
     "data": {
      "image/png": "[encoded data removed]",
      "text/plain": [
       "<Figure size 432x288 with 1 Axes>"
      ]
     },
     "metadata": {
      "needs_background": "light"
     },
     "output_type": "display_data"
    }
   ],
   "source": [
    "# #Prediction of image\n",
    "# %matplotlib inline\n",
    "# import tensorflow\n",
    "# from tensorflow.keras.preprocessing import image\n",
    "# import matplotlib.pyplot as plt\n",
    "# import numpy as np\n",
    "# img1 = image.load_img('C:/Users/sppol/OneDrive/Documents/dataset/test/cobra/7.jpg', target_size=(64, 64))\n",
    "# img = image.img_to_array(img1)\n",
    "# img = img/255\n",
    "# # create a batch of size 1 [N,H,W,C]\n",
    "# img = np.expand_dims(img, axis=0)\n",
    "# prediction = snake.predict(img, batch_size=None,steps=1) #gives all class prob.\n",
    "# print(prediction)\n",
    "# # if(prediction>0.5):\n",
    "# #       print(\"dog\")\n",
    "# # else:\n",
    "# #       print(\"cat\")\n",
    "\n",
    "# plt.imshow(img1)\n",
    "# plt.show()"
   ]
  },
  {
   "cell_type": "code",
   "execution_count": 393,
   "metadata": {},
   "outputs": [],
   "source": [
    "#[1,0] เห่า\n",
    "#[0,1] เหลือม"
   ]
  },
  {
   "cell_type": "code",
   "execution_count": 394,
   "metadata": {},
   "outputs": [
    {
     "name": "stdout",
     "output_type": "stream",
     "text": [
      "30\n"
     ]
    }
   ],
   "source": []
  },
  {
   "cell_type": "code",
   "execution_count": 395,
   "metadata": {},
   "outputs": [],
   "source": []
  },
  {
   "cell_type": "code",
   "execution_count": 396,
   "metadata": {},
   "outputs": [
    {
     "name": "stdout",
     "output_type": "stream",
     "text": [
      "30\n"
     ]
    }
   ],
   "source": []
  },
  {
   "cell_type": "code",
   "execution_count": 397,
   "metadata": {},
   "outputs": [],
   "source": [
    "# from sklearn.linear_model import LogisticRegression\n",
    "# clf = LogisticRegression(C=1.0, penalty='l1')\n",
    "# clf.fit(X, y)\n",
    "# clf.predict(y) # will give you 0 or 1 as the class"
   ]
  },
  {
   "cell_type": "code",
   "execution_count": 398,
   "metadata": {},
   "outputs": [],
   "source": []
  },
  {
   "cell_type": "code",
   "execution_count": 399,
   "metadata": {},
   "outputs": [
    {
     "name": "stdout",
     "output_type": "stream",
     "text": [
      "['cobra\\\\1.jpg', 'cobra\\\\10.jpg', 'cobra\\\\11.jpg', 'cobra\\\\12.jpg', 'cobra\\\\13.jpg', 'cobra\\\\14.jpg', 'cobra\\\\2.jpg', 'cobra\\\\3.jpg', 'cobra\\\\30.jpg', 'cobra\\\\4.jpg', 'cobra\\\\5.jpg', 'cobra\\\\6.jpg', 'cobra\\\\7.jpg', 'cobra\\\\8.jpg', 'cobra\\\\9.jpg', 'non-cobra\\\\15.jpg', 'non-cobra\\\\16.jpg', 'non-cobra\\\\17.jpg', 'non-cobra\\\\18.jpg', 'non-cobra\\\\19.jpg', 'non-cobra\\\\20.jpg', 'non-cobra\\\\21.jpg', 'non-cobra\\\\22.jpg', 'non-cobra\\\\23.jpg', 'non-cobra\\\\24.jpg', 'non-cobra\\\\25.jpg', 'non-cobra\\\\26.jpg', 'non-cobra\\\\27.jpg', 'non-cobra\\\\28.jpg', 'non-cobra\\\\29.jpg']\n",
      "[[1. 0.]\n",
      " [1. 0.]\n",
      " [1. 0.]\n",
      " [1. 0.]\n",
      " [1. 0.]\n",
      " [1. 0.]\n",
      " [0. 1.]\n",
      " [1. 0.]\n",
      " [1. 0.]\n",
      " [1. 0.]\n",
      " [1. 0.]\n",
      " [1. 0.]\n",
      " [1. 0.]\n",
      " [1. 0.]\n",
      " [1. 0.]\n",
      " [0. 1.]\n",
      " [0. 1.]\n",
      " [1. 0.]\n",
      " [0. 1.]\n",
      " [1. 0.]\n",
      " [0. 1.]\n",
      " [0. 1.]\n",
      " [0. 1.]\n",
      " [0. 1.]\n",
      " [0. 1.]\n",
      " [0. 1.]\n",
      " [0. 1.]\n",
      " [0. 1.]\n",
      " [0. 1.]\n",
      " [0. 1.]]\n",
      "[0 0 0 0 0 0 0 0 0 0 0 0 0 0 0 1 1 1 1 1 1 1 1 1 1 1 1 1 1 1]\n"
     ]
    }
   ],
   "source": []
  },
  {
   "cell_type": "code",
   "execution_count": 400,
   "metadata": {
    "scrolled": false
   },
   "outputs": [],
   "source": []
  },
  {
   "cell_type": "code",
   "execution_count": 401,
   "metadata": {},
   "outputs": [
    {
     "data": {
      "text/html": [
       "<div>\n",
       "<style scoped>\n",
       "    .dataframe tbody tr th:only-of-type {\n",
       "        vertical-align: middle;\n",
       "    }\n",
       "\n",
       "    .dataframe tbody tr th {\n",
       "        vertical-align: top;\n",
       "    }\n",
       "\n",
       "    .dataframe thead th {\n",
       "        text-align: right;\n",
       "    }\n",
       "</style>\n",
       "<table border=\"1\" class=\"dataframe\">\n",
       "  <thead>\n",
       "    <tr style=\"text-align: right;\">\n",
       "      <th></th>\n",
       "      <th>filename</th>\n",
       "      <th>predict</th>\n",
       "      <th>y</th>\n",
       "      <th>y_pred</th>\n",
       "    </tr>\n",
       "  </thead>\n",
       "  <tbody>\n",
       "    <tr>\n",
       "      <th>0</th>\n",
       "      <td>cobra\\1.jpg</td>\n",
       "      <td>1.00000</td>\n",
       "      <td>0</td>\n",
       "      <td>1</td>\n",
       "    </tr>\n",
       "    <tr>\n",
       "      <th>1</th>\n",
       "      <td>cobra\\10.jpg</td>\n",
       "      <td>1.00000</td>\n",
       "      <td>0</td>\n",
       "      <td>1</td>\n",
       "    </tr>\n",
       "    <tr>\n",
       "      <th>2</th>\n",
       "      <td>cobra\\11.jpg</td>\n",
       "      <td>1.00000</td>\n",
       "      <td>0</td>\n",
       "      <td>1</td>\n",
       "    </tr>\n",
       "    <tr>\n",
       "      <th>3</th>\n",
       "      <td>cobra\\12.jpg</td>\n",
       "      <td>1.00000</td>\n",
       "      <td>0</td>\n",
       "      <td>1</td>\n",
       "    </tr>\n",
       "    <tr>\n",
       "      <th>4</th>\n",
       "      <td>cobra\\13.jpg</td>\n",
       "      <td>1.00000</td>\n",
       "      <td>0</td>\n",
       "      <td>1</td>\n",
       "    </tr>\n",
       "    <tr>\n",
       "      <th>5</th>\n",
       "      <td>cobra\\14.jpg</td>\n",
       "      <td>1.00000</td>\n",
       "      <td>0</td>\n",
       "      <td>1</td>\n",
       "    </tr>\n",
       "    <tr>\n",
       "      <th>6</th>\n",
       "      <td>cobra\\2.jpg</td>\n",
       "      <td>0.00000</td>\n",
       "      <td>0</td>\n",
       "      <td>0</td>\n",
       "    </tr>\n",
       "    <tr>\n",
       "      <th>7</th>\n",
       "      <td>cobra\\3.jpg</td>\n",
       "      <td>1.00000</td>\n",
       "      <td>0</td>\n",
       "      <td>1</td>\n",
       "    </tr>\n",
       "    <tr>\n",
       "      <th>8</th>\n",
       "      <td>cobra\\30.jpg</td>\n",
       "      <td>1.00000</td>\n",
       "      <td>0</td>\n",
       "      <td>1</td>\n",
       "    </tr>\n",
       "    <tr>\n",
       "      <th>9</th>\n",
       "      <td>cobra\\4.jpg</td>\n",
       "      <td>1.00000</td>\n",
       "      <td>0</td>\n",
       "      <td>1</td>\n",
       "    </tr>\n",
       "    <tr>\n",
       "      <th>10</th>\n",
       "      <td>cobra\\5.jpg</td>\n",
       "      <td>1.00000</td>\n",
       "      <td>0</td>\n",
       "      <td>1</td>\n",
       "    </tr>\n",
       "    <tr>\n",
       "      <th>11</th>\n",
       "      <td>cobra\\6.jpg</td>\n",
       "      <td>1.00000</td>\n",
       "      <td>0</td>\n",
       "      <td>1</td>\n",
       "    </tr>\n",
       "    <tr>\n",
       "      <th>12</th>\n",
       "      <td>cobra\\7.jpg</td>\n",
       "      <td>1.00000</td>\n",
       "      <td>0</td>\n",
       "      <td>1</td>\n",
       "    </tr>\n",
       "    <tr>\n",
       "      <th>13</th>\n",
       "      <td>cobra\\8.jpg</td>\n",
       "      <td>1.00000</td>\n",
       "      <td>0</td>\n",
       "      <td>1</td>\n",
       "    </tr>\n",
       "    <tr>\n",
       "      <th>14</th>\n",
       "      <td>cobra\\9.jpg</td>\n",
       "      <td>1.00000</td>\n",
       "      <td>0</td>\n",
       "      <td>1</td>\n",
       "    </tr>\n",
       "    <tr>\n",
       "      <th>15</th>\n",
       "      <td>non-cobra\\15.jpg</td>\n",
       "      <td>0.00000</td>\n",
       "      <td>1</td>\n",
       "      <td>0</td>\n",
       "    </tr>\n",
       "    <tr>\n",
       "      <th>16</th>\n",
       "      <td>non-cobra\\16.jpg</td>\n",
       "      <td>0.00000</td>\n",
       "      <td>1</td>\n",
       "      <td>0</td>\n",
       "    </tr>\n",
       "    <tr>\n",
       "      <th>17</th>\n",
       "      <td>non-cobra\\17.jpg</td>\n",
       "      <td>1.00000</td>\n",
       "      <td>1</td>\n",
       "      <td>1</td>\n",
       "    </tr>\n",
       "    <tr>\n",
       "      <th>18</th>\n",
       "      <td>non-cobra\\18.jpg</td>\n",
       "      <td>0.00000</td>\n",
       "      <td>1</td>\n",
       "      <td>0</td>\n",
       "    </tr>\n",
       "    <tr>\n",
       "      <th>19</th>\n",
       "      <td>non-cobra\\19.jpg</td>\n",
       "      <td>1.00000</td>\n",
       "      <td>1</td>\n",
       "      <td>1</td>\n",
       "    </tr>\n",
       "    <tr>\n",
       "      <th>20</th>\n",
       "      <td>non-cobra\\20.jpg</td>\n",
       "      <td>0.00000</td>\n",
       "      <td>1</td>\n",
       "      <td>0</td>\n",
       "    </tr>\n",
       "    <tr>\n",
       "      <th>21</th>\n",
       "      <td>non-cobra\\21.jpg</td>\n",
       "      <td>0.00000</td>\n",
       "      <td>1</td>\n",
       "      <td>0</td>\n",
       "    </tr>\n",
       "    <tr>\n",
       "      <th>22</th>\n",
       "      <td>non-cobra\\22.jpg</td>\n",
       "      <td>0.00000</td>\n",
       "      <td>1</td>\n",
       "      <td>0</td>\n",
       "    </tr>\n",
       "    <tr>\n",
       "      <th>23</th>\n",
       "      <td>non-cobra\\23.jpg</td>\n",
       "      <td>0.00000</td>\n",
       "      <td>1</td>\n",
       "      <td>0</td>\n",
       "    </tr>\n",
       "    <tr>\n",
       "      <th>24</th>\n",
       "      <td>non-cobra\\24.jpg</td>\n",
       "      <td>0.00000</td>\n",
       "      <td>1</td>\n",
       "      <td>0</td>\n",
       "    </tr>\n",
       "    <tr>\n",
       "      <th>25</th>\n",
       "      <td>non-cobra\\25.jpg</td>\n",
       "      <td>0.00000</td>\n",
       "      <td>1</td>\n",
       "      <td>0</td>\n",
       "    </tr>\n",
       "    <tr>\n",
       "      <th>26</th>\n",
       "      <td>non-cobra\\26.jpg</td>\n",
       "      <td>0.00000</td>\n",
       "      <td>1</td>\n",
       "      <td>0</td>\n",
       "    </tr>\n",
       "    <tr>\n",
       "      <th>27</th>\n",
       "      <td>non-cobra\\27.jpg</td>\n",
       "      <td>0.00000</td>\n",
       "      <td>1</td>\n",
       "      <td>0</td>\n",
       "    </tr>\n",
       "    <tr>\n",
       "      <th>28</th>\n",
       "      <td>non-cobra\\28.jpg</td>\n",
       "      <td>0.00000</td>\n",
       "      <td>1</td>\n",
       "      <td>0</td>\n",
       "    </tr>\n",
       "    <tr>\n",
       "      <th>29</th>\n",
       "      <td>non-cobra\\29.jpg</td>\n",
       "      <td>0.00000</td>\n",
       "      <td>1</td>\n",
       "      <td>0</td>\n",
       "    </tr>\n",
       "  </tbody>\n",
       "</table>\n",
       "</div>"
      ],
      "text/plain": [
       "            filename  predict  y  y_pred\n",
       "0        cobra\\1.jpg  1.00000  0       1\n",
       "1       cobra\\10.jpg  1.00000  0       1\n",
       "2       cobra\\11.jpg  1.00000  0       1\n",
       "3       cobra\\12.jpg  1.00000  0       1\n",
       "4       cobra\\13.jpg  1.00000  0       1\n",
       "5       cobra\\14.jpg  1.00000  0       1\n",
       "6        cobra\\2.jpg  0.00000  0       0\n",
       "7        cobra\\3.jpg  1.00000  0       1\n",
       "8       cobra\\30.jpg  1.00000  0       1\n",
       "9        cobra\\4.jpg  1.00000  0       1\n",
       "10       cobra\\5.jpg  1.00000  0       1\n",
       "11       cobra\\6.jpg  1.00000  0       1\n",
       "12       cobra\\7.jpg  1.00000  0       1\n",
       "13       cobra\\8.jpg  1.00000  0       1\n",
       "14       cobra\\9.jpg  1.00000  0       1\n",
       "15  non-cobra\\15.jpg  0.00000  1       0\n",
       "16  non-cobra\\16.jpg  0.00000  1       0\n",
       "17  non-cobra\\17.jpg  1.00000  1       1\n",
       "18  non-cobra\\18.jpg  0.00000  1       0\n",
       "19  non-cobra\\19.jpg  1.00000  1       1\n",
       "20  non-cobra\\20.jpg  0.00000  1       0\n",
       "21  non-cobra\\21.jpg  0.00000  1       0\n",
       "22  non-cobra\\22.jpg  0.00000  1       0\n",
       "23  non-cobra\\23.jpg  0.00000  1       0\n",
       "24  non-cobra\\24.jpg  0.00000  1       0\n",
       "25  non-cobra\\25.jpg  0.00000  1       0\n",
       "26  non-cobra\\26.jpg  0.00000  1       0\n",
       "27  non-cobra\\27.jpg  0.00000  1       0\n",
       "28  non-cobra\\28.jpg  0.00000  1       0\n",
       "29  non-cobra\\29.jpg  0.00000  1       0"
      ]
     },
     "execution_count": 401,
     "metadata": {},
     "output_type": "execute_result"
    }
   ],
   "source": []
  },
  {
   "cell_type": "code",
   "execution_count": 343,
   "metadata": {},
   "outputs": [],
   "source": [
    "# import numpy as np \n",
    "\n",
    "# prediction=np.round(np.clip(prediction, 0, 1))"
   ]
  },
  {
   "cell_type": "code",
   "execution_count": 403,
   "metadata": {},
   "outputs": [
    {
     "data": {
      "image/png": "[encoded data removed]",
      "text/plain": [
       "<Figure size 432x288 with 1 Axes>"
      ]
     },
     "metadata": {
      "needs_background": "light"
     },
     "output_type": "display_data"
    }
   ],
   "source": []
  },
  {
   "cell_type": "code",
   "execution_count": null,
   "metadata": {},
   "outputs": [],
   "source": []
  }
 ],
 "metadata": {
  "kernelspec": {
   "display_name": "Python 3",
   "language": "python",
   "name": "python3"
  },
  "language_info": {
   "codemirror_mode": {
    "name": "ipython",
    "version": 3
   },
   "file_extension": ".py",
   "mimetype": "text/x-python",
   "name": "python",
   "nbconvert_exporter": "python",
   "pygments_lexer": "ipython3",
   "version": "3.6.9"
  }
 },
 "nbformat": 4,
 "nbformat_minor": 2
}
